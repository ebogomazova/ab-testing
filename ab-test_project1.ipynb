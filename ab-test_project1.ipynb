{
 "cells": [
  {
   "cell_type": "markdown",
   "id": "7207b2f3-2b9c-4b96-a4c3-c56cd357bc4b",
   "metadata": {
    "tags": []
   },
   "source": [
    "# Проект 1. A/B-тестирование алгоритма рекомендаций постов\n",
    "\n",
    "В ходе тестирования гипотезы целевой группе (группа 2) был предложен новый алгоритм рекомендации постов. Рекомендательная система для контрольной группы (группа 1) осталась прежней. Эксперимент проходил с 2024-09-27 по 2024-10-03 включительно.\n",
    "\n",
    "**Метрика успеха:**\n",
    "\n",
    "В качестве основной метрики успеха выступает **CTR (click-through rate)**, так как она является ключевым показателем пользовательской вовлеченности.\n",
    "\n",
    "**Основная гипотеза:**\n",
    "\n",
    "Новый алгоритм во 2-й группе приведет к увеличению CTR.\n",
    "\n",
    "**Задача:** Проанализировать данные A/B-теста и дать обоснованную рекомендацию о внедрении нового алгоритма."
   ]
  },
  {
   "cell_type": "code",
   "execution_count": 3,
   "id": "8b5630c4-d358-4d58-a30d-37654ef618e0",
   "metadata": {},
   "outputs": [
    {
     "data": {
      "text/html": [
       "<div>\n",
       "<style scoped>\n",
       "    .dataframe tbody tr th:only-of-type {\n",
       "        vertical-align: middle;\n",
       "    }\n",
       "\n",
       "    .dataframe tbody tr th {\n",
       "        vertical-align: top;\n",
       "    }\n",
       "\n",
       "    .dataframe thead th {\n",
       "        text-align: right;\n",
       "    }\n",
       "</style>\n",
       "<table border=\"1\" class=\"dataframe\">\n",
       "  <thead>\n",
       "    <tr style=\"text-align: right;\">\n",
       "      <th></th>\n",
       "      <th>user_id</th>\n",
       "      <th>likes</th>\n",
       "      <th>views</th>\n",
       "      <th>ctr</th>\n",
       "    </tr>\n",
       "    <tr>\n",
       "      <th>exp_group</th>\n",
       "      <th></th>\n",
       "      <th></th>\n",
       "      <th></th>\n",
       "      <th></th>\n",
       "    </tr>\n",
       "  </thead>\n",
       "  <tbody>\n",
       "    <tr>\n",
       "      <th>1</th>\n",
       "      <td>10020</td>\n",
       "      <td>10020</td>\n",
       "      <td>10020</td>\n",
       "      <td>10020</td>\n",
       "    </tr>\n",
       "    <tr>\n",
       "      <th>2</th>\n",
       "      <td>9877</td>\n",
       "      <td>9877</td>\n",
       "      <td>9877</td>\n",
       "      <td>9877</td>\n",
       "    </tr>\n",
       "  </tbody>\n",
       "</table>\n",
       "</div>"
      ],
      "text/plain": [
       "           user_id  likes  views    ctr\n",
       "exp_group                              \n",
       "1            10020  10020  10020  10020\n",
       "2             9877   9877   9877   9877"
      ]
     },
     "execution_count": 3,
     "metadata": {},
     "output_type": "execute_result"
    }
   ],
   "source": [
    "import pandas as pd\n",
    "import pandahouse as ph\n",
    "import hashlib\n",
    "import swifter\n",
    "from scipy import stats\n",
    "import numpy as np\n",
    "import matplotlib.pyplot as plt\n",
    "import seaborn as sns\n",
    "\n",
    "#параметры подлючения к бд\n",
    "connection = {'host': 'https://clickhouse.example',\n",
    "            'database':'database',\n",
    "            'user':'user',\n",
    "            'password':'password'\n",
    "            }\n",
    "\n",
    "q = \"\"\"\n",
    "    SELECT exp_group,\n",
    "            user_id,\n",
    "            sum(action = 'like') as likes,\n",
    "            sum(action = 'view') as views,\n",
    "            likes/views as ctr\n",
    "    FROM {db}.feed_actions\n",
    "    WHERE toDate(time) between '2024-09-27' and '2024-10-03' and exp_group in (1,2)\n",
    "    GROUP BY exp_group, user_id\n",
    "\"\"\"\n",
    "\n",
    "df = ph.read_clickhouse(q, connection=connection)\n",
    "df.groupby('exp_group').count()"
   ]
  },
  {
   "cell_type": "markdown",
   "id": "3b17f9fc-70f1-4528-a6d0-aa305a033b6f",
   "metadata": {},
   "source": [
    "В ходе анализа обнаружено небольшое различие в размерах групп: 10020 пользователей в контрольной (группа 1) и 9877 в экспериментальной (группа 2). Эта разница, составляющая около 1.43%, может незначительно снизить статистическую мощность теста и сделать результаты более чувствительными к выбросам. Однако, сбалансированность групп в целом хорошая, и ожидается, что это не окажет существенного влияния на достоверность анализа."
   ]
  },
  {
   "cell_type": "code",
   "execution_count": 10,
   "id": "09c2c105-5621-4320-a49a-9c833b687ab5",
   "metadata": {},
   "outputs": [
    {
     "data": {
      "image/png": "[encoded data removed]",
      "text/plain": [
       "<Figure size 432x288 with 1 Axes>"
      ]
     },
     "metadata": {
      "needs_background": "light"
     },
     "output_type": "display_data"
    }
   ],
   "source": [
    "group1_sample = df[df.exp_group == 1]\n",
    "group2_sample = df[df.exp_group == 2]\n",
    "\n",
    "# cравнивним подвыборки t-тестом\n",
    "p_value = stats.ttest_ind(group1_sample['ctr'], group2_sample['ctr'], equal_var=False).pvalue\n",
    "\n",
    "#посмотрим на распределение ctr в группах\n",
    "groups = sns.histplot(data = df,\n",
    "                        x='ctr',\n",
    "                        hue='exp_group',\n",
    "                        palette = ['r', 'b'],\n",
    "                        alpha=0.5,\n",
    "                        kde=False)\n",
    "\n",
    "groups.set_title('Распределение CTR по группам')\n",
    "groups.set_xlabel('CTR')\n",
    "groups.set_ylabel('Количество пользователей')\n",
    "\n",
    "plt.legend(title='Группа', labels=['Экспериментальная', 'Контрольная'])\n",
    "plt.show()\n"
   ]
  },
  {
   "cell_type": "code",
   "execution_count": 17,
   "id": "43a480fb-fa17-4f26-933d-fa6f3cefc60d",
   "metadata": {},
   "outputs": [
    {
     "name": "stdout",
     "output_type": "stream",
     "text": [
      "Средний CTR в контрольной группе: 0.2168\n",
      "Средний CTR в экспериментальной группе: 0.2161\n",
      "Разница между средними CTR: -0.3101%\n"
     ]
    }
   ],
   "source": [
    "#средние CTR в каждой группе\n",
    "mean_ctr_group1 = group1_sample['ctr'].mean()\n",
    "mean_ctr_group2 = group2_sample['ctr'].mean()\n",
    "difference_percent = (mean_ctr_group2 - mean_ctr_group1) / mean_ctr_group1 * 100\n",
    "\n",
    "print(f\"Средний CTR в контрольной группе: {mean_ctr_group1:.4f}\")\n",
    "print(f\"Средний CTR в экспериментальной группе: {mean_ctr_group2:.4f}\")\n",
    "print(f\"Разница между средними CTR: {difference_percent:.4f}%\")"
   ]
  },
  {
   "cell_type": "markdown",
   "id": "a9d47821-d14e-42d8-bb8b-d85734a07763",
   "metadata": {},
   "source": [
    "### Анализ результатов t-теста и особенности распределения CTR\n",
    "\n",
    "Хотя визуально распределения CTR в группах отличаются, t-тест, не выявил статистически значимых различий. Первичный анализ с использованием t-теста не выявил статистически значимых различий в CTR между контрольной (группа 1) и экспериментальной (группа 2) группами. Полученное p-value (0.685) значительно превышает стандартный уровень значимости (0.05), что свидетельствует о том, что мы не можем отвергнуть нулевую гипотезу об отсутствии различий между группами.\n",
    "\n",
    "### Выводы из анализа средних CTR и распределений\n",
    "\n",
    "Наблюдается небольшое снижение среднего CTR в экспериментальной группе по сравнению с контрольной. Разница между средними значениями CTR составляет всего -0.3101%, что является относительно небольшой величиной. Визуализация распределений CTR показывает, что:\n",
    "*   В контрольной группе распределение CTR выглядит близким к нормальному.\n",
    "*   В экспериментальной группе распределение CTR имеет признаки бимодальности, что указывает на неоднородность пользовательского поведения внутри группы (наличие пользователей с разным характером активности: \n",
    "\n",
    "    *   Активные пользователи: Пользователи, у которых много просмотров и, как следствие, более стабильный CTR.\n",
    "    *   Менее активные пользователи: Пользователи с небольшим количеством просмотров, чей CTR может быть подвержен сильным случайным колебаниям.\n",
    "\n",
    "**Почему t-тест не обнаружил статистически значимых различий?**\n",
    "\n",
    "1.  **Малый размер эффекта:** Разница между средними CTR в группах (0.31%) настолько мала, что ее сложно выявить статистическими методами, особенно с учетом имеющейся дисперсии в данных.\n",
    "2.  **Недостаточная мощность теста:** Возможно, для выявления столь малых различий при имеющейся дисперсии, нам не хватает мощности теста, то есть объема выборки.\n",
    "3.  **Влияние распределения:** t-тест является параметрическим тестом и опирается на предположение о нормальности распределения данных. Наличие бимодального распределения в экспериментальной группе могло повлиять на результаты t-теста. Бимодальное распределение, как правило, содержит выбросы, которые могут влиять на среднее значение и дисперсию данных.  t-тест чувствителен к таким выбросам, поэтому их наличие может исказить результаты теста и повлиять на корректность полученных выводов.\n",
    "\n",
    "\n",
    "**В связи с этим, для более точного анализа данных и учета выявленных особенностей распределения, будут предприняты следующие шаги:**\n",
    "\n",
    "1.  **Сглаживание CTR:**  Для уменьшения влияния выбросов и случайных колебаний в данных, а также для приближения распределения к нормальному, будет проведено сглаживание CTR методом Лапласа с гиперпараметром α=5. Это может помочь выявить более устойчивые различия между группами, если они существуют.\n",
    "2.  **Непараметрические тесты:** Далее будут применены непараметрические тесты (тест Манна-Уитни), которые не требуют предположения о нормальности распределения и, таким образом, могут быть более подходящими для анализа наших данных.\n",
    "3. **Пуассоновский бутстреп:** Пуассоновский бутстреп — это метод, который моделирует множественные выборки, перевзвешивая исходные данные с помощью случайных весов из распределения Пуассона, позволяя оценивать распределение общих метрик, таких как CTR, без предположений о нормальности. \n",
    "3. **Бакетное преобразование:** Для дополнительной проверки, будет проведено бакетное преобразование CTR, так как это может также сгладить выбросы.\n",
    "4.  **Оценка результатов:**  На последнем этапе будет проведено сравнение результатов, полученные различными методами, чтобы сделать обоснованный вывод о наличии или отсутствии различий между группами и дать рекомендации по внедрению нового алгоритма."
   ]
  },
  {
   "cell_type": "code",
   "execution_count": 18,
   "id": "85009769-0de0-40df-afd2-a3bfbaded8ce",
   "metadata": {},
   "outputs": [
    {
     "data": {
      "image/png": "[encoded data removed]",
      "text/plain": [
       "<Figure size 432x288 with 1 Axes>"
      ]
     },
     "metadata": {
      "needs_background": "light"
     },
     "output_type": "display_data"
    }
   ],
   "source": [
    "#сглаженный ctr: когда просмотров много, сгалженный ctr будет почти равен ctr пользователя, когда просмотров мало - общегрупповому\n",
    "def get_smothed_ctr(likes, views, global_ctr, alpha):\n",
    "    smothed_ctr = (likes + alpha * global_ctr) / (views + alpha)\n",
    "    return smothed_ctr\n",
    "\n",
    "#общегрупповой ctr\n",
    "global_ctr1 = df[df.exp_group == 1].likes.sum() / df[df.exp_group ==1].views.sum()\n",
    "global_ctr2 = df[df.exp_group == 2].likes.sum() / df[df.exp_group ==2].views.sum()\n",
    "\n",
    "# создаю копию group1 и group2 из df, которая содержит только строки, где exp_group равен 1/2\n",
    "group1 = df[df.exp_group == 1].copy()\n",
    "group2 = df[df.exp_group == 2].copy()\n",
    "\n",
    "\n",
    "group1['smothed_ctr'] = df.apply(\n",
    "    lambda x: get_smothed_ctr(x['likes'], x['views'], global_ctr1, 5), axis=1)\n",
    "    \n",
    "group2['smothed_ctr'] = df.apply(\n",
    "    lambda x: get_smothed_ctr(x['likes'], x['views'], global_ctr2,5), axis=1)\n",
    "\n",
    "\n",
    "combined_df = pd.concat([group1, group2])\n",
    "\n",
    "#посмотрим на распределение ctr после сглаживания\n",
    "groups = sns.histplot(data=combined_df,\n",
    "                     x='smothed_ctr',\n",
    "                     hue='exp_group',\n",
    "                     palette=['r', 'b'],\n",
    "                     alpha=0.5,\n",
    "                     kde=False)\n",
    "\n",
    "groups.set_title('Распределение сглаженного CTR по группам')\n",
    "groups.set_xlabel('Сглаженный CTR')\n",
    "groups.set_ylabel('Количество пользователей')\n",
    "\n",
    "plt.legend(title='Группа', labels=['Экспериментальная', 'Контрольная'])\n",
    "plt.show()\n"
   ]
  },
  {
   "cell_type": "code",
   "execution_count": 19,
   "id": "10c39c49-7046-422d-83d9-1512f8aa1fbd",
   "metadata": {},
   "outputs": [
    {
     "data": {
      "text/plain": [
       "Ttest_indResult(statistic=1.9460491517027683, pvalue=0.05166679015318526)"
      ]
     },
     "execution_count": 19,
     "metadata": {},
     "output_type": "execute_result"
    }
   ],
   "source": [
    "#t-test после сгалживания ctr\n",
    "stats.ttest_ind(group1['smothed_ctr'], group2['smothed_ctr'], equal_var = False)"
   ]
  },
  {
   "cell_type": "code",
   "execution_count": 20,
   "id": "05c854f7-e051-4f64-9d54-03860bc14016",
   "metadata": {},
   "outputs": [
    {
     "name": "stdout",
     "output_type": "stream",
     "text": [
      "Средний сглаженный CTR в контрольной группе: 0.2153\n",
      "Средний сглаженный CTR в экспериментальной группе: 0.2125\n",
      "Разница между ср. сглаженными CTR: -1.2875%\n"
     ]
    }
   ],
   "source": [
    "#средние CTR в каждой группе\n",
    "mean_smothed_ctr_group1 = group1['smothed_ctr'].mean()\n",
    "mean_smothed_ctr_group2 = group2['smothed_ctr'].mean()\n",
    "difference_percent = (mean_smothed_ctr_group2 - mean_smothed_ctr_group1) / mean_smothed_ctr_group1 * 100\n",
    "\n",
    "print(f\"Средний сглаженный CTR в контрольной группе: {mean_smothed_ctr_group1:.4f}\")\n",
    "print(f\"Средний сглаженный CTR в экспериментальной группе: {mean_smothed_ctr_group2:.4f}\")\n",
    "print(f\"Разница между ср. сглаженными CTR: {difference_percent:.4f}%\")"
   ]
  },
  {
   "cell_type": "markdown",
   "id": "b017828b-e171-4ec8-94f0-6e5d15085e0f",
   "metadata": {},
   "source": [
    "### Анализ результатов t-теста на сглаженном CTR\n",
    "\n",
    "После применения сглаживания Лапласа к CTR, был повторно проведен t-тест для сравнения средних значений сглаженного CTR между контрольной (группа 1) и экспериментальной (группа 2) группами. Результаты t-теста показали, что различия в сглаженном CTR между группами не являются статистически значимыми (statistic=1.946, p-value=0.0516). Сглаживание привело к увеличению разницы в средних CTR между группами, по сравнению с исходными данными (-1.2875%). \n",
    "\n",
    "\n",
    "Полученное p-value (0.0516) немного превышает стандартный уровень значимости (0.05), поэтому мы не можем отвергнуть нулевую гипотезу об отсутствии различий между группами. Однако, поскольку p-value близко к границе значимости, мы не можем однозначно утверждать об отсутствии различий. Этот результат может быть неоднозначным, что указывает на необходимость дальнейшего изучения.\n",
    "\n",
    "**Факторы, которые могут влиять на результаты:**\n",
    "\n",
    "1.  **Размер эффекта:** Эффект от нового алгоритма (если он есть) слишком мал, чтобы быть обнаруженным с текущим размером выборки и дисперсией.\n",
    "2.  **Выбросы и ненормальность распределения:** Несмотря на применение сглаживания, визуально распределение сглаженного CTR в экспериментальной группе (группа 2) все еще не похоже на нормальное и имеет признаки бимодальности. t-тест чувствителен к ненормальности распределения и к выбросам. Кроме того, стоит учесть, что количество данных в группах различается. \n",
    "3.  **Разница в размерах групп:** Различие в размерах групп (10020 в контрольной и 9877 в экспериментальной) также может внести небольшую погрешность в результаты t-теста.\n",
    "\n",
    "**Дальнейшие шаги для более глубокого анализа:**\n",
    "\n",
    "Учитывая неоднозначность результатов t-теста и его потенциальные ограничения, будет продолжено исследование данных с использованием других методов: \n",
    "\n",
    "2. **Непараметрические тесты** \n",
    "3. **Пуассоновский бутстреп** \n",
    "4. **Бакетное преобразование** \n",
    "5. **Оценка результатов** "
   ]
  },
  {
   "cell_type": "code",
   "execution_count": 15,
   "id": "905996ac-2c6b-4688-bc66-1b0b7a5f8af8",
   "metadata": {},
   "outputs": [
    {
     "data": {
      "text/plain": [
       "MannwhitneyuResult(statistic=55189913.0, pvalue=4.632205841806026e-45)"
      ]
     },
     "execution_count": 15,
     "metadata": {},
     "output_type": "execute_result"
    }
   ],
   "source": [
    "#тест Манна-Уитни\n",
    "stats.mannwhitneyu(df[df.exp_group == 1].ctr, df[df.exp_group == 2].ctr,alternative = 'two-sided')"
   ]
  },
  {
   "cell_type": "markdown",
   "id": "89145991-0e4e-4e2f-acc0-345c3590249a",
   "metadata": {},
   "source": [
    "Тест Манна-Уитни выявил статистически значимые различия между распределениями CTR в контрольной и экспериментальной группах. Полученное p-value (4.63e-45) крайне мало, что свидетельствует о том, что вероятность получить наблюдаемые различия, если бы на самом деле различий не было, чрезвычайно низка.\n",
    "\n",
    "В отличие от t-теста, который проверяет равенство средних, тест Манна-Уитни чувствителен к различиям в распределениях между группами. Полученные результаты говорят о том, что распределения CTR в контрольной и экспериментальной группах имеют существенные отличия, которые не были выявлены t-тестом. \n"
   ]
  },
  {
   "cell_type": "code",
   "execution_count": 22,
   "id": "6186a3ba-6ebc-4c2e-9efe-065f726be4e9",
   "metadata": {},
   "outputs": [
    {
     "data": {
      "image/png": "[encoded data removed]",
      "text/plain": [
       "<Figure size 720x432 with 1 Axes>"
      ]
     },
     "metadata": {
      "needs_background": "light"
     },
     "output_type": "display_data"
    }
   ],
   "source": [
    "#Пуассоновский бутстреп\n",
    "\n",
    "def bootstrap(likes1, views1, likes2, views2, n_bootstrap=2000):\n",
    "    \n",
    "    \"\"\"\n",
    "    Проводит Пуассоновский бутстреп для оценки распределения CTR.\n",
    "\n",
    "    Args:\n",
    "        likes1 (np.ndarray): Массив лайков для контрольной группы.\n",
    "        views1 (np.ndarray): Массив просмотров для контрольной группы.\n",
    "        likes2 (np.ndarray): Массив лайков для экспериментальной группы.\n",
    "        views2 (np.ndarray): Массив просмотров для экспериментальной группы.\n",
    "        n_bootstrap (int, optional): Количество бутстреп-выборок. Defaults to 2000.\n",
    "\n",
    "    Returns:\n",
    "        tuple: Два массива, представляющих распределение CTR для контрольной и экспериментальной групп.\n",
    "    \"\"\"\n",
    "    \n",
    "    #генерируем случайные веса из распределения Пуассона для контрольной группы\n",
    "    poisson_bootstraps1 = stats.poisson(1).rvs(\n",
    "        (n_bootstrap, len(likes1))).astype(np.int64)\n",
    "    \n",
    "    #генерируем случайные веса из распределения Пуассона для экспериментальной группы\n",
    "    poisson_bootstraps2 = stats.poisson(1).rvs(\n",
    "            (n_bootstrap, len(likes2))).astype(np.int64)\n",
    "    \n",
    "    #рассчитываем средний CTR для каждой бутстреп-выборки в контрольной группе\n",
    "    globalCTR1 = (poisson_bootstraps1*likes1).sum(axis=1)/(poisson_bootstraps1*views1).sum(axis=1)\n",
    "    \n",
    "    #рассчитываем средний CTR для каждой бутстреп-выборки в экспериментальной группе\n",
    "    globalCTR2 = (poisson_bootstraps2*likes2).sum(axis=1)/(poisson_bootstraps2*views2).sum(axis=1)\n",
    "\n",
    "    return globalCTR1, globalCTR2\n",
    "\n",
    "#извлекаем данные о лайках и просмотрах для обеих групп\n",
    "likes1 = df[df.exp_group == 1].likes.to_numpy()\n",
    "views1 = df[df.exp_group == 1].views.to_numpy()\n",
    "likes2 = df[df.exp_group == 2].likes.to_numpy()\n",
    "views2 = df[df.exp_group == 2].views.to_numpy()\n",
    "\n",
    "#проводим Пуассоновский бутстреп для получения распределений CTR\n",
    "ctr1, ctr2 = bootstrap(likes1, views1, likes2, views2)\n",
    "\n",
    "#строим гистограмму \n",
    "plt.figure(figsize=(10, 6))\n",
    "sns.histplot(ctr1, color='red', label='Контрольная группа')\n",
    "sns.histplot(ctr2, color='blue', label='Экспериментальная группа')\n",
    "\n",
    "plt.title('Распределения CTR, полученные с помощью Пуассоновского бутстрепа')\n",
    "plt.xlabel('CTR')\n",
    "plt.ylabel('Количество выборок')\n",
    "plt.legend()\n",
    "plt.show()"
   ]
  },
  {
   "cell_type": "code",
   "execution_count": 24,
   "id": "97b66f7b-65c5-4034-a439-4119654c4163",
   "metadata": {},
   "outputs": [
    {
     "name": "stdout",
     "output_type": "stream",
     "text": [
      "P-value: 0.0\n"
     ]
    }
   ],
   "source": [
    "#разница между CTR в экспериментальной и контрольной группах для каждой бутстреп-выборки\n",
    "differences = ctr2 - ctr1\n",
    "\n",
    "#наблюдаемая разница между средними CTR в исходных данных\n",
    "observed_difference = np.mean(df[df.exp_group == 2].likes / df[df.exp_group == 2].views) - np.mean(df[df.exp_group == 1].likes / df[df.exp_group == 1].views)\n",
    "\n",
    "#рассчитываем p-value как долю бутстреп-выборок, где разница CTR больше или равна наблюдаемой разнице\n",
    "p_value = np.mean(differences >= observed_difference)\n",
    "\n",
    "print(f\"P-value: {p_value}\")"
   ]
  },
  {
   "cell_type": "markdown",
   "id": "39b244a2-29f3-4e24-a1de-8c978645f54d",
   "metadata": {},
   "source": [
    "### Результаты Пуассоновского бутстрепа\n",
    "\n",
    "Пуассоновский бутстреп подтвердил, что существует статистически значимая разница между группами, и эта разница указывает на снижение CTR в экспериментальной группе.\n",
    "\n",
    "*   **Распределение глобальных CTR:** Гистограммы, построенные на основе результатов бутстрепа, показывают распределения глобальных CTR для каждой группы (контрольной и экспериментальной). Распределения глобальных CTR, полученные после бутстрепа, не пересекаются. При этом значение глобального CTR для контрольной группы (группа 1) больше, чем для экспериментальной группы (группа 2). Важно отметить, что оба распределения имеют куполообразную форму, напоминающую нормальное распределение.\n",
    "*   **Гистограмма разницы глобальных CTR:** Гистограмма разницы между глобальными CTR (группа 2 минус группа 1) показывает, что глобальный CTR экспериментальной группы в большинстве случаев меньше, чем глобальный CTR контрольной группы.\n",
    "*   **p-value:** p-value, рассчитанный как доля бутстреп-выборок, где разница CTR больше или равна наблюдаемой разнице, равен 0.\n",
    "\n",
    "**Интерпретация:**\n",
    "\n",
    "Полученные результаты бутстрепа свидетельствуют о том, что есть статистически значимые различия между глобальными CTR в контрольной и экспериментальной группах. Поскольку p-value равен 0, мы можем отвергнуть нулевую гипотезу об отсутствии различий между группами.\n",
    "\n",
    "При этом, что важно, результаты бутстрепа показывают, что средний CTR в экспериментальной группе (группа 2) ниже, чем в контрольной группе (группа 1). Это означает, что новый алгоритм, вопреки первоначальным ожиданиям, не привел к улучшению, а скорее к снижению CTR.\n",
    "\n",
    "\n",
    "**Дальнейшие шаги для более глубокого анализа:**\n",
    "\n",
    "4. **Бакетное преобразование** \n",
    "5. **Оценка результатов** "
   ]
  },
  {
   "cell_type": "code",
   "execution_count": 32,
   "id": "25ea7029-068c-4a07-8e64-fbeb41145b22",
   "metadata": {},
   "outputs": [
    {
     "data": {
      "text/plain": [
       "MannwhitneyuResult(statistic=1997.0, pvalue=2.6576427804010095e-07)"
      ]
     },
     "execution_count": 32,
     "metadata": {},
     "output_type": "execute_result"
    }
   ],
   "source": [
    "#t-тест и тест Манна-Уитни поверх бакетного преобразования\n",
    "\n",
    "#запрос к бд для бакетного преобразовнаия\n",
    "\n",
    "q1 = \"\"\"\n",
    "        SELECT exp_group, bucket,\n",
    "            sum(likes)/sum(views) as bucket_ctr, -- Рассчитываем средний CTR для каждого бакета\n",
    "            quantileExact(0.9)(ctr) as ctr9 -- Рассчитываем 90-й перцентиль CTR для каждого бакета\n",
    "        FROM (SELECT exp_group, \n",
    "                xxHash64(user_id)%50 as bucket, -- Распределяем пользователей по 50 бакетам на основе их user_id\n",
    "                user_id,\n",
    "                sum(action = 'like') as likes,\n",
    "                sum(action = 'view') as views,\n",
    "                likes/views as ctr\n",
    "            FROM {db}.feed_actions \n",
    "            WHERE toDate(time) between '2024-09-27' and '2024-10-03'\n",
    "                and exp_group in (1,2)\n",
    "            GROUP BY exp_group, bucket, user_id)\n",
    "        GROUP BY exp_group, bucket\n",
    "\"\"\"\n",
    "\n",
    "df1 = ph.read_clickhouse(q1, connection=connection)\n",
    "\n",
    "#тест Манна-Уитни для сравнения CTR между группами на уровне бакетов\n",
    "stats.mannwhitneyu(df1[df1.exp_group == 1].bucket_ctr, \n",
    "                   df1[df1.exp_group == 2].bucket_ctr, \n",
    "                   alternative = 'two-sided')"
   ]
  },
  {
   "cell_type": "code",
   "execution_count": 33,
   "id": "71e98f69-0352-48c6-a233-75327ef6e606",
   "metadata": {},
   "outputs": [
    {
     "data": {
      "text/plain": [
       "Ttest_indResult(statistic=5.614819358149381, pvalue=4.592644937473873e-07)"
      ]
     },
     "execution_count": 33,
     "metadata": {},
     "output_type": "execute_result"
    }
   ],
   "source": [
    "# t-тест для сравнения CTR между группами на уровне бакетов\n",
    "stats.ttest_ind(df1[df1.exp_group == 1].bucket_ctr, \n",
    "                   df1[df1.exp_group == 2].bucket_ctr, \n",
    "                   equal_var = False)"
   ]
  },
  {
   "cell_type": "code",
   "execution_count": 34,
   "id": "7fd41332-09a0-4550-b190-cbf720c10266",
   "metadata": {},
   "outputs": [
    {
     "data": {
      "image/png": "[encoded data removed]",
      "text/plain": [
       "<Figure size 720x432 with 1 Axes>"
      ]
     },
     "metadata": {
      "needs_background": "light"
     },
     "output_type": "display_data"
    }
   ],
   "source": [
    "#смотрим гистограммы\n",
    "plt.figure(figsize=(10, 6)) \n",
    "sns.histplot(df1[df1.exp_group == 1].bucket_ctr, color='red', label='Контрольная группа')\n",
    "sns.histplot(df1[df1.exp_group == 2].bucket_ctr, color='blue', label='Экспериментальная группа')\n",
    "\n",
    "plt.title('Распределение bucket_ctr после бакетного преобразования')\n",
    "plt.xlabel('bucket_ctr')\n",
    "plt.ylabel('Количество бакетов')\n",
    "plt.legend()  \n",
    "plt.show()"
   ]
  },
  {
   "cell_type": "markdown",
   "id": "145f21fe-140e-4ffa-ab96-62dd8b4f7e50",
   "metadata": {},
   "source": [
    "### Выводы по результатам бакетного преобразования\n",
    "\n",
    "После проведения бакетного преобразования данных, мы получили следующие результаты:\n",
    "\n",
    "*   **Гистограмма распределения bucket_ctr:** Гистограммы распределения среднего CTR по бакетам (bucket_ctr) показывают, что контрольная группа (группа 1) имеет тенденцию к более высоким значениям `bucket_ctr`, чем экспериментальная группа (группа 2).\n",
    "*   **Тест Манна-Уитни:** Тест Манна-Уитни, проведенный на `bucket_ctr`, подтвердил наличие статистически значимых различий между группами. Это указывает на то, что распределения CTR между группами различаются даже после бакетного преобразования.\n",
    "*   **T-тест:** Повторный t-тест, проведенный на `bucket_ctr`, также показал наличие статистически значимых различий между группами, что согласуется с результатами теста Манна-Уитни.\n",
    "    \n",
    "\n",
    "**Интерпретация:**\n",
    "\n",
    "Результаты бакетного преобразования подтверждают выводы, полученные ранее с помощью Пуассоновского бутстрепа и непараметрического теста на исходных данных. Использование бакетного преобразования позволило дополнительно сгладить данные и убедиться в надежности полученных результатов.\n"
   ]
  },
  {
   "cell_type": "markdown",
   "id": "84181958-21df-4c5a-9521-2c32393deace",
   "metadata": {},
   "source": [
    "## Анализ результатов A/B теста нового алгоритма\n",
    "\n",
    "### 1. Цель эксперимента\n",
    "\n",
    "Проверка эффективности нового алгоритма рекомендации контента на метрику CTR.\n",
    "\n",
    "### 2. Сравнение данных\n",
    "\n",
    "Были применены несколько статистических методов для сравнения контрольной (группа 1) и экспериментальной (группа 2) групп:\n",
    "\n",
    "1.  **t-тест:** Не выявил значимых различий между группами из-за бимодального распределения CTR во второй группе.  t-тест чувствителен к отклонениям от нормального распределения.\n",
    "\n",
    "2.  **Сглаживание CTR:** Применение сглаживания помогло уменьшить влияние выбросов и бимодальности в данных группы 2, сделав данные более подходящими для t-теста.  Однако, результат сглаженного t-теста остался неоднозначным: p-value выше стандартного уровня значимости (0.05), но близко к нему.\n",
    "\n",
    "3.  **Непараметрический тест Манна-Уитни:** Показал статистически значимое различие между группами.  Тест Манна-Уитни более устойчив к ненормальным распределениям, что позволило выявить различия, которые t-тест пропустил.\n",
    "\n",
    "4.  **Пуассоновский бутстреп:** Подтвердил наличие статистически значимых различий между группами. Гистограммы разницы CTR смещены в сторону отрицательных значений, что указывает на снижение CTR в экспериментальной группе.\n",
    "\n",
    "5.  **Бакетное преобразование + t-тест и Манна-Уитни:**  После бакетного преобразования, которое дополнительно сгладило данные,  оба теста (Манна-Уитни и t-тест) снова показали статистически значимые различия между группами.\n",
    "\n",
    "\n",
    "### 3. Потенциальные причины снижения CTR\n",
    "\n",
    "Некоторые потенциальные причины снижения CTR в экспериментальной группе:\n",
    "\n",
    "*   **Неверная оценка предпочтений пользователя:** Алгоритм может не учитывать недавнюю активность пользователя или игнорировать важные факторы.\n",
    "*   **Ошибки в реализации алгоритма:** В процессе реализации нового алгоритма могли быть допущены ошибки, повлиявшие на его корректную работу.\n",
    "\n",
    "**Примеры возможных проблем с алгоритмами:**\n",
    "\n",
    "**Алгоритм \"Показываем пользователю посты, наиболее похожие на те, которые он лайкал\":**\n",
    "\n",
    "1.  **Слишком узкая ниша:**  Пользователь, лайкающий только котиков, получает только котиков, игнорируя другой потенциально интересный контент.\n",
    "2.  **Новые пользователи:**  Новым пользователям без лайков может рекомендоваться случайный контент.\n",
    "\n",
    "**Алгоритм \"Показываем пользователю посты, которые лайкали похожие на него пользователи\":**\n",
    "\n",
    "1.  **Неправильная оценка схожести пользователей:** Алгоритм может некорректно определять схожесть пользователей.\n",
    "\n",
    "\n",
    "### 4. Решение о выкатке\n",
    "\n",
    "Все проведенные тесты показали снижение ctr во второй группе, что может говорить о недоработках в алгоритме. Это может привести к снижению дохода и дальнейшему ухудшению показателей вовлеченности. Кроме того, новый алгоритм может переобучиться на данных стартовой группы и плохо работать на новой аудитории. Необходимо также проверить достаточность и репрезентативность размера выборки.\n",
    "\n",
    "Учитывая эти факторы, **рекомендуется отложить выкатку алгоритма на всех пользователей**. Необходимо продолжить анализ данных, выявить причины, по которым введение нового алгоритма привело к увеличению CTR для части пользователей экспериментальной группы. Выяснить, почему CTR снизился для части пользователей экспирементальной группы. Необходимо доработать алгоритм, провести тест на большей выборке. После выкатки необходимо постоянно мониторить эффективность и вносить коррективы.\n",
    "\n",
    "**Важно:** В контексте метрики CTR – выкатывать не нужно. Однако, если рассмотреть другую глобальную метрику компании (например, доход), то может оказаться, что алгоритм существенно повысил CTR у определенной группы пользователей, приносящей значительный доход. В этом случае целевая метрика должна быть не средний CTR, а, например, квантиль (например, 90-й перцентиль) CTR, который отражает влияние на высокодоходную группу пользователей."
   ]
  }
 ],
 "metadata": {
  "kernelspec": {
   "display_name": "Python 3 (ipykernel)",
   "language": "python",
   "name": "python3"
  },
  "language_info": {
   "codemirror_mode": {
    "name": "ipython",
    "version": 3
   },
   "file_extension": ".py",
   "mimetype": "text/x-python",
   "name": "python",
   "nbconvert_exporter": "python",
   "pygments_lexer": "ipython3",
   "version": "3.8.10"
  }
 },
 "nbformat": 4,
 "nbformat_minor": 5
}
